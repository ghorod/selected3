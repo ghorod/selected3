{
 "cells": [
  {
   "cell_type": "code",
   "execution_count": 7,
   "id": "93888566-4eb4-45fe-8ff1-884d6d0bd5c4",
   "metadata": {},
   "outputs": [],
   "source": [
    "from bs4 import BeautifulSoup\n",
    "import requests\n",
    "import re\n",
    "import numpy as np\n",
    "import csv "
   ]
  },
  {
   "cell_type": "code",
   "execution_count": 8,
   "id": "88942138-f8d5-4cbb-8599-2c788a8142c8",
   "metadata": {},
   "outputs": [],
   "source": [
    "def SentDataToCsv(entry):\n",
    "    with open('books.csv', 'a', encoding='UTF8') as f:\n",
    "        writer = csv.writer(f)\n",
    "        writer.writerow(entry)"
   ]
  },
  {
   "cell_type": "code",
   "execution_count": 9,
   "id": "cbab982f-a64a-41ae-b1b7-ec8b8e7eea03",
   "metadata": {
    "tags": []
   },
   "outputs": [],
   "source": [
    "def search(list, platform):\n",
    "    for i in range(len(list)):\n",
    "        if list[i] == platform:\n",
    "            return True\n",
    "    return False\n",
    "\n",
    "\n",
    "def unique(arr):\n",
    "    list2=[]\n",
    "    list2.append (arr[0])\n",
    "    for i in range(len(arr)):\n",
    "        if search(list2, arr[i]):\n",
    "            continue\n",
    "        else:\n",
    "            list2.append(arr[i])\n",
    "    return list2\n",
    "\n",
    "    "
   ]
  },
  {
   "cell_type": "code",
   "execution_count": 10,
   "id": "2dab8de7-4eea-4521-8654-20e25ce56353",
   "metadata": {},
   "outputs": [],
   "source": [
    "def clean1(str):\n",
    "    str1=str[0:len(str)-3]\n",
    "   # print(len(str))\n",
    "    return str1"
   ]
  },
  {
   "cell_type": "code",
   "execution_count": 11,
   "id": "2c4a1905-4ac4-4ef9-810a-46a89224618a",
   "metadata": {},
   "outputs": [],
   "source": [
    "def clean2(str):    \n",
    "    arr=str.split()\n",
    "    arr= unique(arr)\n",
    "    #print(arr)\n",
    "    str1 = \"\"   \n",
    "    for ele in range(4,len(arr)): \n",
    "        str1 += arr[ele] +\" \" \n",
    "    \n",
    "    return str1"
   ]
  },
  {
   "cell_type": "code",
   "execution_count": 12,
   "id": "2327a796-d2cb-43f7-9ac2-de1b3e5d08b5",
   "metadata": {
    "tags": []
   },
   "outputs": [],
   "source": [
    "def clean3(str):    \n",
    "    arr=str.split()\n",
    "    arr= unique(arr)\n",
    "  #  print(arr)\n",
    "    str1 = \"\"   \n",
    "    for ele in range(3,len(arr)): \n",
    "        str1 += arr[ele] +\" \" \n",
    "    \n",
    "    return str1"
   ]
  },
  {
   "cell_type": "code",
   "execution_count": 13,
   "id": "cbc50109-7a21-47c3-88a6-05a2e2e7de51",
   "metadata": {},
   "outputs": [],
   "source": [
    "def clean48(str):    \n",
    "    arr=str.split()\n",
    "    arr= unique(arr)\n",
    "   # print(arr)\n",
    "    x=len(arr)-1\n",
    "    str1 = \"\" \n",
    "    str1=arr[x]\n",
    "    return str1"
   ]
  },
  {
   "cell_type": "code",
   "execution_count": 14,
   "id": "ef294906-867e-40a2-b9b3-c4b85678b4ad",
   "metadata": {},
   "outputs": [],
   "source": [
    "def clean(str):    \n",
    "    arr=str.split()\n",
    "    arr= unique(arr)\n",
    "   # print(arr)\n",
    "    str1 = \"\" \n",
    "    for ele in range(len(arr)-2,len(arr)): \n",
    "        str1 += arr[ele] +\" \" \n",
    "    return str1"
   ]
  },
  {
   "cell_type": "code",
   "execution_count": 15,
   "id": "6bfb8959-e5e3-410d-8ad5-a681e0092327",
   "metadata": {},
   "outputs": [],
   "source": [
    "def sentbookinfo(entry):\n",
    "    #print(len(entry))\n",
    "    for i in range(1,len(entry)):\n",
    "        if i==1:\n",
    "            x=entry[i]\n",
    "            entry[i]= clean1(x)\n",
    "        elif i==2:\n",
    "            x=entry[i]\n",
    "            entry[i]= clean2(x)\n",
    "        elif i==3:\n",
    "            x=entry[i]\n",
    "            entry[i]= clean3(x)\n",
    "        elif i==4 or i==8:\n",
    "            x=entry[i]\n",
    "            entry[i]= clean48(x)\n",
    "        elif i<4 or i<8:\n",
    "            x=entry[i]\n",
    "            entry[i]= clean(x)\n",
    "    \n",
    "    SentDataToCsv(entry)        "
   ]
  },
  {
   "cell_type": "code",
   "execution_count": null,
   "id": "bac2d35e-0681-4ba4-a2b7-2a52ba278ee9",
   "metadata": {},
   "outputs": [],
   "source": []
  },
  {
   "cell_type": "code",
   "execution_count": 16,
   "id": "b974e6cd-e1fa-40e5-a2e2-11d44f943c10",
   "metadata": {},
   "outputs": [],
   "source": [
    "def GetInfo(Link,FileName) : \n",
    "    page = requests.get(Link)\n",
    "    soup = BeautifulSoup(page.content, 'html.parser')\n",
    "    array=[]\n",
    "    array.append(Link)\n",
    "    array.append(soup.find('h1',attrs={'class':\"post-title entry-title\"}).get_text())\n",
    "    #array[1]= soup.find_all('h1',attrs={'class':\"post-title entry-title\"})[0].get_text()\n",
    "    for i in range(18,25):\n",
    "        array.append (soup.find_all('li')[i].get_text())\n",
    "        #array[0]= re.findall('https://www.arab-books.com/books/[^\"]+\\S+',page.text )\n",
    "   # print(len(array))\n",
    "   # for i in range(len(array)):\n",
    "    #    print(array[i])\n",
    "    sentbookinfo(array)\n",
    "    if len(array) ==0 : return None\n",
    "    #f = open(FileName,'a',encoding = 'utf-8')\n",
    "    #for i in range(len(array)) : \n",
    "     #   f.write(array[i])\n",
    "     #   f.write('\\n')\n",
    "    #f.close()\n",
    "    "
   ]
  },
  {
   "cell_type": "code",
   "execution_count": 18,
   "id": "973a0468-2a8a-4e95-8b77-c8f6465ba036",
   "metadata": {
    "tags": []
   },
   "outputs": [
    {
     "name": "stdout",
     "output_type": "stream",
     "text": [
      "ddd\n",
      "ddd\n",
      "ddd\n",
      "ddd\n",
      "ddd\n",
      "ddd\n",
      "ddd\n",
      "ddd\n"
     ]
    },
    {
     "ename": "AttributeError",
     "evalue": "'NoneType' object has no attribute 'get_text'",
     "output_type": "error",
     "traceback": [
      "\u001b[1;31m---------------------------------------------------------------------------\u001b[0m",
      "\u001b[1;31mAttributeError\u001b[0m                            Traceback (most recent call last)",
      "\u001b[1;32m<ipython-input-18-c7960aeca7de>\u001b[0m in \u001b[0;36m<module>\u001b[1;34m\u001b[0m\n\u001b[0;32m     15\u001b[0m   \u001b[1;31m#  print(\"dd\")\u001b[0m\u001b[1;33m\u001b[0m\u001b[1;33m\u001b[0m\u001b[1;33m\u001b[0m\u001b[0m\n\u001b[0;32m     16\u001b[0m \u001b[1;32mfor\u001b[0m \u001b[0mn\u001b[0m \u001b[1;32min\u001b[0m \u001b[0mrange\u001b[0m\u001b[1;33m(\u001b[0m\u001b[1;36m4000\u001b[0m\u001b[1;33m,\u001b[0m\u001b[1;36m5000\u001b[0m\u001b[1;33m)\u001b[0m\u001b[1;33m:\u001b[0m\u001b[1;33m\u001b[0m\u001b[1;33m\u001b[0m\u001b[0m\n\u001b[1;32m---> 17\u001b[1;33m     \u001b[0mGetInfo\u001b[0m\u001b[1;33m(\u001b[0m\u001b[0ma\u001b[0m\u001b[1;33m[\u001b[0m\u001b[0mn\u001b[0m\u001b[1;33m]\u001b[0m\u001b[1;33m,\u001b[0m\u001b[1;34m'infoOfBooks.txt'\u001b[0m\u001b[1;33m)\u001b[0m\u001b[1;33m\u001b[0m\u001b[1;33m\u001b[0m\u001b[0m\n\u001b[0m\u001b[0;32m     18\u001b[0m     \u001b[0mprint\u001b[0m\u001b[1;33m(\u001b[0m\u001b[1;34m\"ddd\"\u001b[0m\u001b[1;33m)\u001b[0m\u001b[1;33m\u001b[0m\u001b[1;33m\u001b[0m\u001b[0m\n\u001b[0;32m     19\u001b[0m \u001b[1;32mfor\u001b[0m \u001b[0mn\u001b[0m \u001b[1;32min\u001b[0m \u001b[0mrange\u001b[0m\u001b[1;33m(\u001b[0m\u001b[1;36m5000\u001b[0m\u001b[1;33m,\u001b[0m\u001b[0mlen\u001b[0m\u001b[1;33m(\u001b[0m\u001b[0ma\u001b[0m\u001b[1;33m)\u001b[0m\u001b[1;33m)\u001b[0m\u001b[1;33m:\u001b[0m\u001b[1;33m\u001b[0m\u001b[1;33m\u001b[0m\u001b[0m\n",
      "\u001b[1;32m<ipython-input-16-99e854b71cac>\u001b[0m in \u001b[0;36mGetInfo\u001b[1;34m(Link, FileName)\u001b[0m\n\u001b[0;32m      4\u001b[0m     \u001b[0marray\u001b[0m\u001b[1;33m=\u001b[0m\u001b[1;33m[\u001b[0m\u001b[1;33m]\u001b[0m\u001b[1;33m\u001b[0m\u001b[1;33m\u001b[0m\u001b[0m\n\u001b[0;32m      5\u001b[0m     \u001b[0marray\u001b[0m\u001b[1;33m.\u001b[0m\u001b[0mappend\u001b[0m\u001b[1;33m(\u001b[0m\u001b[0mLink\u001b[0m\u001b[1;33m)\u001b[0m\u001b[1;33m\u001b[0m\u001b[1;33m\u001b[0m\u001b[0m\n\u001b[1;32m----> 6\u001b[1;33m     \u001b[0marray\u001b[0m\u001b[1;33m.\u001b[0m\u001b[0mappend\u001b[0m\u001b[1;33m(\u001b[0m\u001b[0msoup\u001b[0m\u001b[1;33m.\u001b[0m\u001b[0mfind\u001b[0m\u001b[1;33m(\u001b[0m\u001b[1;34m'h1'\u001b[0m\u001b[1;33m,\u001b[0m\u001b[0mattrs\u001b[0m\u001b[1;33m=\u001b[0m\u001b[1;33m{\u001b[0m\u001b[1;34m'class'\u001b[0m\u001b[1;33m:\u001b[0m\u001b[1;34m\"post-title entry-title\"\u001b[0m\u001b[1;33m}\u001b[0m\u001b[1;33m)\u001b[0m\u001b[1;33m.\u001b[0m\u001b[0mget_text\u001b[0m\u001b[1;33m(\u001b[0m\u001b[1;33m)\u001b[0m\u001b[1;33m)\u001b[0m\u001b[1;33m\u001b[0m\u001b[1;33m\u001b[0m\u001b[0m\n\u001b[0m\u001b[0;32m      7\u001b[0m     \u001b[1;31m#array[1]= soup.find_all('h1',attrs={'class':\"post-title entry-title\"})[0].get_text()\u001b[0m\u001b[1;33m\u001b[0m\u001b[1;33m\u001b[0m\u001b[1;33m\u001b[0m\u001b[0m\n\u001b[0;32m      8\u001b[0m     \u001b[1;32mfor\u001b[0m \u001b[0mi\u001b[0m \u001b[1;32min\u001b[0m \u001b[0mrange\u001b[0m\u001b[1;33m(\u001b[0m\u001b[1;36m18\u001b[0m\u001b[1;33m,\u001b[0m\u001b[1;36m25\u001b[0m\u001b[1;33m)\u001b[0m\u001b[1;33m:\u001b[0m\u001b[1;33m\u001b[0m\u001b[1;33m\u001b[0m\u001b[0m\n",
      "\u001b[1;31mAttributeError\u001b[0m: 'NoneType' object has no attribute 'get_text'"
     ]
    }
   ],
   "source": [
    "f = open(\"LinksOfBooks.txt\", \"r\")\n",
    "a=[]\n",
    "for x in f:\n",
    "      #  GetInfo(x,'infoOfBooks.txt')\n",
    "    a.append(x)\n",
    "#for n in range(0,1000):\n",
    "#    GetInfo(a[n],'infoOfBooks.txt')\n",
    "#for n in range(1000,2000):\n",
    " #   GetInfo(a[n],'infoOfBooks.txt')\n",
    "#for n in range(2450,3000):\n",
    " #   GetInfo(a[n],'infoOfBooks.txt')\n",
    "#    print(\"d\")\n",
    "#for n in range(3000,4000):\n",
    " #   GetInfo(a[n],'infoOfBooks.txt')\n",
    "  #  print(\"dd\")\n",
    "for n in range(4000,5000):\n",
    "    GetInfo(a[n],'infoOfBooks.txt')\n",
    "for n in range(5000,len(a)):\n",
    "    GetInfo(a[n],'infoOfBooks.txt')\n",
    "\n",
    "        "
   ]
  },
  {
   "cell_type": "code",
   "execution_count": null,
   "id": "e29de305-93e7-49ce-8e1b-e4ef4aa684e8",
   "metadata": {
    "tags": []
   },
   "outputs": [],
   "source": []
  }
 ],
 "metadata": {
  "kernelspec": {
   "display_name": "Python 3",
   "language": "python",
   "name": "python3"
  },
  "language_info": {
   "codemirror_mode": {
    "name": "ipython",
    "version": 3
   },
   "file_extension": ".py",
   "mimetype": "text/x-python",
   "name": "python",
   "nbconvert_exporter": "python",
   "pygments_lexer": "ipython3",
   "version": "3.8.8"
  }
 },
 "nbformat": 4,
 "nbformat_minor": 5
}
